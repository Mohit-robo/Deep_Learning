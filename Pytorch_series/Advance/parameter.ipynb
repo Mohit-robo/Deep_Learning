{
 "cells": [
  {
   "cell_type": "markdown",
   "metadata": {},
   "source": [
    "Parameters that are declared using `nn.parameter` inside of a module are added to the list of the Module’s parameters. Say, if `m` is your module, `m.parameters()` will book-keep your parameters."
   ]
  },
  {
   "cell_type": "code",
   "execution_count": 1,
   "metadata": {},
   "outputs": [
    {
     "data": {
      "text/plain": [
       "[Parameter containing:\n",
       " tensor([[ 0.9260, -0.1546],\n",
       "         [-0.8868, -2.1834]], requires_grad=True),\n",
       " Parameter containing:\n",
       " tensor([0., 0.], requires_grad=True)]"
      ]
     },
     "execution_count": 1,
     "metadata": {},
     "output_type": "execute_result"
    }
   ],
   "source": [
    "import torch.nn as nn\n",
    "import torch\n",
    "\n",
    "class M(nn.Module):\n",
    "    def __init__(self):\n",
    "        super().__init__()\n",
    "        self.weights = nn.Parameter(torch.randn(2, 2))\n",
    "        self.bias = nn.Parameter(torch.zeros(2))\n",
    "\n",
    "    def forward(self, x):\n",
    "        return x @ self.weights + self.bias\n",
    "\n",
    "m = M()\n",
    "m.parameters()\n",
    "list(m.parameters())"
   ]
  },
  {
   "cell_type": "markdown",
   "metadata": {},
   "source": [
    "`nn.Module.parameters()` returns the parameters that were defined. On the flip side, if we just define a `Torch tensor` within the class, using say,\n",
    "`self.t = torch.tensor(1)`, it will not show up in the parameters list. That is the only difference between a `torch.tensor` and a `nn.Parameter`."
   ]
  },
  {
   "cell_type": "code",
   "execution_count": null,
   "metadata": {},
   "outputs": [],
   "source": []
  }
 ],
 "metadata": {
  "kernelspec": {
   "display_name": "pytorch_2",
   "language": "python",
   "name": "pytorch_2"
  },
  "language_info": {
   "codemirror_mode": {
    "name": "ipython",
    "version": 3
   },
   "file_extension": ".py",
   "mimetype": "text/x-python",
   "name": "python",
   "nbconvert_exporter": "python",
   "pygments_lexer": "ipython3",
   "version": "3.8.5"
  },
  "orig_nbformat": 4,
  "vscode": {
   "interpreter": {
    "hash": "2eff6db29d864a2ae6e881601e5324ec7e1684b98517ff4c087099da97cd2d3c"
   }
  }
 },
 "nbformat": 4,
 "nbformat_minor": 2
}
